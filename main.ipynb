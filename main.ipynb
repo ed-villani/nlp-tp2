{
 "cells": [
  {
   "cell_type": "markdown",
   "source": [
    "# [DCC 030] Aprendizado Profundo para Processamento de Linguagem Natural: Trabalho Prático 2\n",
    "__Aluno:__\n",
    "- Eduardo Villani de Carvalho Filho - 2015104008\n",
    "---\n",
    "# [Parte 1] O trabalho"
   ],
   "metadata": {
    "collapsed": false,
    "pycharm": {
     "name": "#%% md\n"
    }
   }
  },
  {
   "cell_type": "markdown",
   "source": [
    "## Bibliotecas que serão utilizadas\n",
    "\n",
    "Aqui é definido todas as bibliotecas que serão utilizadas ao longo deste trabalho."
   ],
   "metadata": {
    "collapsed": false
   }
  },
  {
   "cell_type": "code",
   "execution_count": 18,
   "outputs": [],
   "source": [
    "import pathlib\n",
    "import nltk\n",
    "import ssl\n",
    "import numpy as np\n",
    "import joblib\n",
    "\n",
    "from typing import Union\n",
    "from tqdm.notebook import tqdm"
   ],
   "metadata": {
    "collapsed": false,
    "pycharm": {
     "name": "#%%\n"
    }
   }
  },
  {
   "cell_type": "markdown",
   "source": [
    "## Eventual problema de SSL\n",
    "\n",
    "Há um pequeno problema no sistema de download da biblioteca utilizada, por isso devemos rodar a\n",
    "linha abaixo para configurar o certificado ssl do computador."
   ],
   "metadata": {
    "collapsed": false,
    "pycharm": {
     "name": "#%% md\n"
    }
   }
  },
  {
   "cell_type": "code",
   "source": [
    "\n",
    "try:\n",
    "    _create_unverified_https_context = ssl._create_unverified_context\n",
    "except AttributeError:\n",
    "    pass\n",
    "else:\n",
    "    ssl._create_default_https_context = _create_unverified_https_context"
   ],
   "metadata": {
    "collapsed": false,
    "pycharm": {
     "name": "#%%\n"
    }
   },
   "execution_count": 2,
   "outputs": []
  },
  {
   "cell_type": "markdown",
   "source": [
    "## Introdução\n",
    "\n",
    "Este trabalho tem como objetivo pôr em prática o que foi visto em sala de aula do conceito de\n",
    "POS Tagging. O POS Tagging tem por objetivo classificar as palavras em classes gramaticais, isto\n",
    "é, pegando uma frase genérica como: \"Eu lavei meu carro ontem\", o POS Tagging teria por objetivo\n",
    "saber classificar \"Eu\" como um Pronome Pessoa, \"lavei\" como um verbo, \"meu\" como um pronome\n",
    "possessivo, \"carro\" como um substantivo e \"ontem\" como um advérbio de tempo, além de outras\n",
    "classificações possíveis, como \"meu carro ontem\" como um objeto direto.\n",
    "\n",
    "Para a elaboração deste trabalhos, iremos utilizar o corpus Mac Morpho (colocar link aqui),\n",
    "o qual contém classificação de sentenças em português brasileiro feita pela USP. Pegando um exemplo prático\n",
    "utilizando a biblioteca do Python NLTK:"
   ],
   "metadata": {
    "collapsed": false
   }
  },
  {
   "cell_type": "code",
   "execution_count": 4,
   "outputs": [
    {
     "name": "stdout",
     "output_type": "stream",
     "text": [
      "('Jersei', 'N')\n",
      "('atinge', 'V')\n",
      "('média', 'N')\n",
      "('de', 'PREP')\n",
      "('Cr$', 'CUR')\n",
      "('1,4', 'NUM')\n",
      "('milhão', 'N')\n",
      "('em', 'PREP|+')\n",
      "('a', 'ART')\n",
      "('venda', 'N')\n",
      "('de', 'PREP|+')\n",
      "('a', 'ART')\n",
      "('Pinhal', 'NPROP')\n",
      "('em', 'PREP')\n",
      "('São', 'NPROP')\n",
      "('Paulo', 'NPROP')\n"
     ]
    },
    {
     "name": "stderr",
     "output_type": "stream",
     "text": [
      "[nltk_data] Downloading package mac_morpho to\n",
      "[nltk_data]     /Users/eduardovillani/nltk_data...\n",
      "[nltk_data]   Package mac_morpho is already up-to-date!\n"
     ]
    }
   ],
   "source": [
    "nltk.download('mac_morpho')\n",
    "mac_morpho = nltk.corpus.mac_morpho\n",
    "for word_tagged in mac_morpho.tagged_sents()[0]:\n",
    "    print(word_tagged)\n",
    "\n",
    "del word_tagged"
   ],
   "metadata": {
    "collapsed": false,
    "pycharm": {
     "name": "#%%\n"
    }
   }
  },
  {
   "cell_type": "markdown",
   "source": [
    "Como podemos notar, o nltk apresenta a classificação de cada palavra e ainda a junção de dois tipos\n",
    "diferentes para formar um só, como de + a formando da, como uma preposição e um artigo.\n",
    "\n",
    "Ao longo deste trabalho, iremos ver o funcionamento do NLTK (para se familiarizar com a biblioteca e o POS Tagging),\n",
    "passando por uma avaliação dos classificadores do NLTK e finalizando momontando um modelo usando XYZ\n",
    "para comparação com estes classificadores."
   ],
   "metadata": {
    "collapsed": false,
    "pycharm": {
     "name": "#%% md\n"
    }
   }
  },
  {
   "cell_type": "markdown",
   "source": [
    "# [Parte 2] Conhecendo o nltk e o MacMorphus\n",
    "\n",
    "bla bla bla"
   ],
   "metadata": {
    "collapsed": false
   }
  },
  {
   "cell_type": "code",
   "execution_count": 5,
   "outputs": [],
   "source": [
    "def most_commom_tags(corpus, n):\n",
    "    def simplify_tag(t):\n",
    "        \"\"\"Retirado de: http://www.nltk.org/howto/portuguese_en.html\"\"\"\n",
    "        if \"+\" in t:\n",
    "            return t[t.index(\"+\")+1:]\n",
    "        else:\n",
    "            return t\n",
    "\n",
    "    tags = [simplify_tag(tag) for (word,tag) in corpus.tagged_words()]\n",
    "    fd_tags =  nltk.FreqDist(tags)\n",
    "    for tag in list(fd_tags.keys())[:n]:\n",
    "        print(tag)\n",
    "    del fd_tags\n",
    "    del tags"
   ],
   "metadata": {
    "collapsed": false,
    "pycharm": {
     "name": "#%%\n"
    }
   }
  },
  {
   "cell_type": "code",
   "execution_count": 6,
   "outputs": [
    {
     "name": "stdout",
     "output_type": "stream",
     "text": [
      "As 10 tags mais comuns em pt-BR:\n",
      "N\n",
      "V\n",
      "PREP\n",
      "CUR\n",
      "NUM\n",
      "\n",
      "ART\n",
      "NPROP\n",
      "PROADJ\n",
      ",\n"
     ]
    }
   ],
   "source": [
    "n = 10\n",
    "print(f\"As {n} tags mais comuns em pt-BR:\")\n",
    "most_commom_tags(mac_morpho, n)\n"
   ],
   "metadata": {
    "collapsed": false,
    "pycharm": {
     "name": "#%%\n"
    }
   }
  },
  {
   "cell_type": "code",
   "execution_count": 7,
   "outputs": [],
   "source": [
    "fd = nltk.FreqDist(mac_morpho.tagged_words())"
   ],
   "metadata": {
    "collapsed": false,
    "pycharm": {
     "name": "#%%\n"
    }
   }
  },
  {
   "cell_type": "code",
   "execution_count": 8,
   "outputs": [
    {
     "name": "stdout",
     "output_type": "stream",
     "text": [
      "As 10 palavras mais comuns em pt-BR:\n",
      "[((',', ','), 68491), (('o', 'ART'), 51854), (('a', 'ART'), 46588), (('de', 'PREP'), 43093), (('de', 'PREP|+'), 39427), (('e', 'KC'), 21267), (('\"', '\"'), 21069), (('em', 'PREP|+'), 18586), (('os', 'ART'), 14541), (('em', 'PREP'), 11826)]\n"
     ]
    }
   ],
   "source": [
    "n = 10\n",
    "print(f\"As {n} palavras mais comuns em pt-BR:\\n{fd.most_common(n)}\")\n",
    "del fd"
   ],
   "metadata": {
    "collapsed": false,
    "pycharm": {
     "name": "#%%\n"
    }
   }
  },
  {
   "cell_type": "markdown",
   "source": [
    "# [PARTE 3] Testando modelos de determinação de Tags com o nltk\n",
    "\n",
    "ESCREVER ALGO AQUI"
   ],
   "metadata": {
    "collapsed": false
   }
  },
  {
   "cell_type": "markdown",
   "source": [
    "## Dados de Treino e Dados de Teste\n",
    "\n",
    "Vamos usar 80% dos dados para testes e 20% para treino."
   ],
   "metadata": {
    "collapsed": false
   }
  },
  {
   "cell_type": "code",
   "execution_count": 9,
   "outputs": [],
   "source": [
    "k = 0.8\n",
    "data = mac_morpho.tagged_sents()\n",
    "tot = len(data)\n",
    "tot_train_samples = int(np.ceil(tot*k))\n",
    "\n",
    "train_data = data[:tot_train_samples]\n",
    "test_data = data[tot_train_samples:]\n",
    "\n",
    "del data, k, tot, tot_train_samples"
   ],
   "metadata": {
    "collapsed": false,
    "pycharm": {
     "name": "#%%\n"
    }
   }
  },
  {
   "cell_type": "markdown",
   "source": [
    "## Fábricas de Modelos\n",
    "\n",
    "Para facilitar o desenvolvimento do trabalho, será feito uma fábrica de modelos para criação e gerenciamento dos mesmos.\n",
    "Abaixo explicamos a função de cada classe criada."
   ],
   "metadata": {
    "collapsed": false,
    "pycharm": {
     "name": "#%% md\n"
    }
   }
  },
  {
   "cell_type": "markdown",
   "source": [
    "### Tipos de Modelos\n",
    "\n",
    "Aqui definimos os tipos de modelos que serão usados para avaliar a acurácia."
   ],
   "metadata": {
    "collapsed": false
   }
  },
  {
   "cell_type": "code",
   "execution_count": 10,
   "outputs": [],
   "source": [
    "class ModelType:\n",
    "    TAGGER = 'TAGGER'\n",
    "    AFFIX2 = 'AFFIX2'\n",
    "    AFFIX3= 'AFFIX3'\n",
    "    AFFIX4 = 'AFFIX4'\n",
    "    AFFIX5 = 'AFFIX5'\n",
    "    AFFIX6 = 'AFFIX6'\n",
    "    UNIGRAM = 'UNIGRAM'\n",
    "    BIGRAM = 'BIGRAM'\n",
    "    TRIGRAM = 'TRIGRAM'\n",
    "    BRILL_TAGGER = 'BRILL_TAGGER'\n",
    "    NAIVES_BAYES = 'NAIVES_BAYES'"
   ],
   "metadata": {
    "collapsed": false,
    "pycharm": {
     "name": "#%%\n"
    }
   }
  },
  {
   "cell_type": "markdown",
   "source": [
    "### Tagger de Modelos\n",
    "\n",
    "Uma classe básica que contém informações dos modelos (valor padrão no texto, modelos, classificador usado,\n",
    "acurácia e se a acurácia está em porcentual ou em valores unitário). Foi feito uma subclasse para\n",
    "controle dos modelos."
   ],
   "metadata": {
    "collapsed": false
   }
  },
  {
   "cell_type": "code",
   "execution_count": 40,
   "outputs": [],
   "source": [
    "class Tagger:\n",
    "    class ModelDict:\n",
    "        def __init__(self, name: str, classifier):\n",
    "            self._data = {\n",
    "                'name': name,\n",
    "                'accuracy': None,\n",
    "                'accuracy_type': \"unit\",\n",
    "                'model': None,\n",
    "                'classifier': classifier\n",
    "            }\n",
    "\n",
    "        @property\n",
    "        def name(self) -> str:\n",
    "            return self['name']\n",
    "\n",
    "        @property\n",
    "        def accuracy(self) -> Union[float, None]:\n",
    "            return self['accuracy']\n",
    "\n",
    "        @property\n",
    "        def model(self):\n",
    "            return self['model']\n",
    "\n",
    "        @property\n",
    "        def classifier(self):\n",
    "            return self['classifier']\n",
    "\n",
    "        def __str__(self):\n",
    "            return str(self._data)\n",
    "\n",
    "        def __getitem__(self, item: str):\n",
    "            return self._data[item]\n",
    "\n",
    "        def __setitem__(self, item: str, value):\n",
    "            self._data[item] = value\n",
    "\n",
    "        __repr__ = __str__\n",
    "\n",
    "    def __init__(self, value: str):\n",
    "        self._data = {\n",
    "            \"value\": value,\n",
    "            'models': {\n",
    "                ModelType.TAGGER: Tagger.ModelDict(ModelType.TAGGER, nltk.DefaultTagger),\n",
    "                ModelType.AFFIX2: Tagger.ModelDict(ModelType.AFFIX2, nltk.AffixTagger),\n",
    "                ModelType.AFFIX3: Tagger.ModelDict(ModelType.AFFIX3, nltk.AffixTagger),\n",
    "                ModelType.AFFIX4: Tagger.ModelDict(ModelType.AFFIX4, nltk.AffixTagger),\n",
    "                ModelType.AFFIX5: Tagger.ModelDict(ModelType.AFFIX5, nltk.AffixTagger),\n",
    "                ModelType.AFFIX6: Tagger.ModelDict(ModelType.AFFIX6, nltk.AffixTagger),\n",
    "                ModelType.UNIGRAM: Tagger.ModelDict(ModelType.UNIGRAM, nltk.UnigramTagger),\n",
    "                ModelType.BIGRAM: Tagger.ModelDict(ModelType.BIGRAM, nltk.BigramTagger),\n",
    "                ModelType.TRIGRAM: Tagger.ModelDict(ModelType.TRIGRAM, nltk.TrigramTagger),\n",
    "                ModelType.BRILL_TAGGER: Tagger.ModelDict(ModelType.BRILL_TAGGER, nltk.BrillTaggerTrainer),\n",
    "                ModelType.NAIVES_BAYES: Tagger.ModelDict(ModelType.NAIVES_BAYES, nltk.ClassifierBasedPOSTagger)\n",
    "    }\n",
    "        }\n",
    "\n",
    "    @property\n",
    "    def value(self) -> str:\n",
    "        return self['value']\n",
    "\n",
    "    @property\n",
    "    def models(self)->dict:\n",
    "        return self['models']\n",
    "\n",
    "\n",
    "    def load_accuracies(self, name):\n",
    "        import json\n",
    "        with open('accuracy.json', 'r') as fp:\n",
    "            saved_accuracies = json.load(fp)\n",
    "        fp.close()\n",
    "        with tqdm(self.models, position=1, desc=f'Loading accuracy models for {name}') as inner_for:\n",
    "            for m in inner_for:\n",
    "                self['models'][m]['accuracy'] = saved_accuracies[name][m]\n",
    "\n",
    "    def evaluate_models(self, test_data, name):\n",
    "        with tqdm(self.models, position=1, desc=f'Evaluating models for {name}') as inner_for:\n",
    "            for m in inner_for:\n",
    "                model = self.models[m]\n",
    "                accuracy_model = model.accuracy\n",
    "                if accuracy_model is not None and isinstance(accuracy_model, float):\n",
    "                    pass\n",
    "                m_model = model.model.evaluate(test_data)\n",
    "                self['models'][m]['accuracy'] = m_model\n",
    "\n",
    "\n",
    "    def generate_models(self, train_data, name):\n",
    "        with tqdm(self.models, position=1, desc=f'Generating models for {name}') as inner_for:\n",
    "            for m in inner_for:\n",
    "                current_model = self['models'][m]['model']\n",
    "                pathlib.Path(\"models\").mkdir(parents=True, exist_ok=True)\n",
    "                file_name = f\"POS_tagger_{self['value']}_{self['models'][m]['name']}\"\n",
    "                file_path = f\"models/{file_name}.pkl\"\n",
    "                tagger = None\n",
    "                if current_model is None:\n",
    "                    try:\n",
    "                        self['models'][m]['model'] = joblib.load(file_path)\n",
    "                    except FileNotFoundError:\n",
    "                        if m == ModelType.TAGGER:\n",
    "                            tagger = self['models'][m]['classifier'](self['value'])\n",
    "                        elif m == ModelType.NAIVES_BAYES:\n",
    "                            tagger = self['models'][m]['classifier'](train=train_data)\n",
    "                        elif m == ModelType.BRILL_TAGGER:\n",
    "                            backoff = self['models'][ModelType.TRIGRAM]['model']\n",
    "                            tagger = self['models'][m]['classifier'](backoff, nltk.brill.fntbl37(), trace=True)\n",
    "                            tagger = tagger.train(train_data)\n",
    "                        elif m == ModelType.AFFIX2:\n",
    "                            backoff = self['models'][ModelType.TAGGER]['model']\n",
    "                            tagger = self['models'][m]['classifier'](train_data,affix_length=-2, backoff=backoff)\n",
    "                        elif m == ModelType.AFFIX3:\n",
    "                            backoff = self['models'][ModelType.AFFIX2]['model']\n",
    "                            tagger = self['models'][m]['classifier'](train_data,affix_length=-3, backoff=backoff)\n",
    "                        elif m == ModelType.AFFIX4:\n",
    "                            backoff = self['models'][ModelType.AFFIX3]['model']\n",
    "                            tagger = self['models'][m]['classifier'](train_data,affix_length=-4, backoff=backoff)\n",
    "                        elif m == ModelType.AFFIX5:\n",
    "                            backoff = self['models'][ModelType.AFFIX4]['model']\n",
    "                            tagger = self['models'][m]['classifier'](train_data,affix_length=-5, backoff=backoff)\n",
    "                        elif m == ModelType.AFFIX6:\n",
    "                            backoff = self['models'][ModelType.AFFIX5]['model']\n",
    "                            tagger = self['models'][m]['classifier'](train_data,affix_length=-6, backoff=backoff)\n",
    "                        elif m == ModelType.UNIGRAM:\n",
    "                            backoff = self['models'][ModelType.AFFIX6]['model']\n",
    "                            tagger = self['models'][m]['classifier'](train_data, backoff=backoff)\n",
    "                        elif m == ModelType.BIGRAM:\n",
    "                            backoff = self['models'][ModelType.UNIGRAM]['model']\n",
    "                            tagger = self['models'][m]['classifier'](train_data, backoff=backoff)\n",
    "                        elif m == ModelType.TRIGRAM:\n",
    "                            backoff = self['models'][ModelType.BIGRAM]['model']\n",
    "                            tagger = self['models'][m]['classifier'](train_data, backoff=backoff)\n",
    "                        if tagger is not None:\n",
    "                            self['models'][m]['model'] = tagger\n",
    "                            joblib.dump(tagger, file_path)\n",
    "\n",
    "    def __getitem__(self, item):\n",
    "        return self._data[item]\n",
    "\n",
    "    def __setitem__(self, item, value):\n",
    "        self._data[item] = value\n",
    "\n",
    "    def __str__(self):\n",
    "        return str(self._data)\n",
    "\n",
    "    __repr__ = __str__"
   ],
   "metadata": {
    "collapsed": false,
    "pycharm": {
     "name": "#%%\n"
    }
   }
  },
  {
   "cell_type": "markdown",
   "source": [
    "### Dícionarios de Tags\n",
    "\n",
    "Classe que contém todas as tags utilizadas e com possibilidade de gerar todas (somente algumas), além de avaliá-lo."
   ],
   "metadata": {
    "collapsed": false
   }
  },
  {
   "cell_type": "code",
   "execution_count": 49,
   "outputs": [],
   "source": [
    "class TagsDict:\n",
    "    def __init__(self, train_data, test_data):\n",
    "        self._train_data = train_data\n",
    "        self._test_data = test_data\n",
    "        self._data = {\n",
    "            \"ADJETIVO\": Tagger(\"ADJ\"),\n",
    "            \"ADVÉRBIO\": Tagger(\"ADV\"),\n",
    "            \"ADVÉRBIO CONECTIVO SUBORDINATIVO\": Tagger(\"ADV-KS\"),\n",
    "            \"ADVÉRBIO RELATIVO SUBORDINATIVO\": Tagger(\"ADV-KS-REL\"),\n",
    "            \"ARTIGO\": Tagger(\"ART\"),\n",
    "            \"CONJUNÇÃO COORDENATIVA\": Tagger(\"KC\"),\n",
    "            \"CONJUNÇÃO SUBORDINATIVA\": Tagger(\"KS\"),\n",
    "            \"INTERJEIÇÃO\": Tagger(\"IN\"),\n",
    "            \"NOME\": Tagger(\"N\"),\n",
    "            \"NOME PRÓPRIO\": Tagger(\"NPROP\"),\n",
    "            \"NUMERAL\": Tagger(\"NUM\"),\n",
    "            \"PARTICÍPIO\": Tagger(\"PCP\"),\n",
    "            \"PALAVRA DENOTATIVA\": Tagger(\"PDEN\"),\n",
    "            \"PREPOSIÇÃO\": Tagger(\"PREP\"),\n",
    "            \"PRONOME ADJETIVO\": Tagger(\"PROADJ\"),\n",
    "            \"PRONOME CONECTIVO SUBORDINATIVO\": Tagger(\"PRO-KS\"),\n",
    "            \"PRONOME PESSOAL\": Tagger(\"PROPESS\"),\n",
    "            \"PRONOME RELATIVO CONECTIVO SUBORDINATIVO\": Tagger(\"PRO-KS-REL\"),\n",
    "            \"PRONOME SUBSTANTIVO\": Tagger(\"PROSUB\"),\n",
    "            \"VERBO\": Tagger(\"V\"),\n",
    "            \"VERBO AUXILIAR\": Tagger(\"VAUX\"),\n",
    "            \"SÍMBOLO DE MOEDA CORRENTE\": Tagger(\"CUR\")\n",
    "        }\n",
    "\n",
    "    def train_all_models(self):\n",
    "        with tqdm(self._data, position=0, desc=\"Model Generating...\") as main_for:\n",
    "            for t in main_for:\n",
    "                self._data[t].generate_models(self._train_data, t)\n",
    "\n",
    "    def evaluate_all_models(self):\n",
    "        import json\n",
    "\n",
    "        with tqdm(self._data, position=0, desc=\"Model Evaluating...\") as main_for:\n",
    "            for t in main_for:\n",
    "                self._data[t].evaluate_models(self._test_data, t)\n",
    "        k = {}\n",
    "        for t in self._data:\n",
    "            tag =self._data[t]\n",
    "            if t not in k:\n",
    "                k[t] = {}\n",
    "            for m in tag.models:\n",
    "                model = tag.models[m]\n",
    "                if m not in k[t]:\n",
    "                    k[t][m] = model.accuracy\n",
    "\n",
    "        with open('accuracy.json', 'w') as fp:\n",
    "            json.dump(k, fp)\n",
    "\n",
    "    def load_accuracies_for_all_models(self):\n",
    "        with tqdm(self._data, position=0, desc=\"Model Evaluating...\") as main_for:\n",
    "            for t in main_for:\n",
    "                self._data[t].load_accuracies(t)\n",
    "\n",
    "    def print_accuracies(self):\n",
    "        for t in self._data:\n",
    "            tag =self._data[t]\n",
    "            for m in tag.models:\n",
    "                model = tag.models[m]\n",
    "                value = model.accuracy * 100\n",
    "                print(\"Acurácia para {} no modelo {}: {:.2f}%\".format(t, m, value))\n",
    "            print(\"\\n\")\n",
    "\n",
    "    def __str__(self):\n",
    "        return str(self._data)\n",
    "    __repr__ = __str__"
   ],
   "metadata": {
    "collapsed": false,
    "pycharm": {
     "name": "#%%\n"
    }
   }
  },
  {
   "cell_type": "markdown",
   "source": [
    "## Conhecendo os classificadores do NLTK\n",
    "\n",
    "Aqui faremos uma breve explicação de como cada classificador do NLTK funciona para melhor entendimento."
   ],
   "metadata": {
    "collapsed": false
   }
  },
  {
   "cell_type": "markdown",
   "source": [
    "### Default Tagger\n",
    "\n",
    "Primeiramente iremos utilizar o Default Tagger do nltk para classificar o texto aleatoriamente em alguma\n",
    "classe gramatical. Ela servirá como um valor base para demais métodos que serão usados. Como padrão, iremos\n",
    "usar a tag N, de nome. A escolha é puramente por ser a tag mais comum, mas qualquer outra tag poderia\n",
    "ser usada.\n"
   ],
   "metadata": {
    "collapsed": false
   }
  },
  {
   "cell_type": "markdown",
   "source": [
    "### Affix\n",
    "\n",
    "O AffixTagger se baseia em sufixos e prefixos. A língua portuguesa tem uma forma relação\n",
    "entre os sufixos das palavras e sua classe. À exemplo: palavras terminar em -er, -ir ou -ar são em\n",
    "sua maioria verbos. Palavras terminadas em -mente são advérbios de modo. O limite colocado foi 6,\n",
    "justamente pois -mente é o maior sufixo existente em portugues, portando de 5 para 6 não haverá grandes\n",
    "diferenças. Os prefixos foram ignorados por não apresentarem muita relação."
   ],
   "metadata": {
    "collapsed": false
   }
  },
  {
   "cell_type": "markdown",
   "source": [
    "### Unigram\n",
    "O UnigramTagger considera cada palavra de uma vez e determina o contexto da palavra."
   ],
   "metadata": {
    "collapsed": false
   }
  },
  {
   "cell_type": "markdown",
   "source": [
    "### Bigram\n",
    "O BigramTagger funciona como o Unigram, mas considera o conjunto de duas palavras: \"Eu amo batata\", os bigramas\n",
    "são \"eu amo\" e \"amo batata\""
   ],
   "metadata": {
    "collapsed": false
   }
  },
  {
   "cell_type": "markdown",
   "source": [
    "### Trigram\n",
    "O TrigramTagger segue a mesma lógica do Unigram e do Trigram.\n"
   ],
   "metadata": {
    "collapsed": false
   }
  },
  {
   "cell_type": "markdown",
   "source": [
    "### Brill Tagger\n",
    "O Brill Tagger é um tipo de classificador de aprendizado supervisionado que tenta determinar regras\n",
    "para ajudar na classificação, i.e, o erro é minimizado na classificação seguida de associar uma tag a uma regra\n",
    "gerada pelo algoritmo."
   ],
   "metadata": {
    "collapsed": false
   }
  },
  {
   "cell_type": "markdown",
   "source": [
    "## Gerando os modelos\n",
    "\n",
    "Aqui iremos gerar todos os modelos para futura avaliação."
   ],
   "metadata": {
    "collapsed": false
   }
  },
  {
   "cell_type": "code",
   "execution_count": 50,
   "outputs": [
    {
     "data": {
      "text/plain": "Model Generating...:   0%|          | 0/22 [00:00<?, ?it/s]",
      "application/vnd.jupyter.widget-view+json": {
       "version_major": 2,
       "version_minor": 0,
       "model_id": "73e9871852164bed8fd2e96994982a6c"
      }
     },
     "metadata": {},
     "output_type": "display_data"
    },
    {
     "data": {
      "text/plain": "Generating models for ADJETIVO:   0%|          | 0/11 [00:00<?, ?it/s]",
      "application/vnd.jupyter.widget-view+json": {
       "version_major": 2,
       "version_minor": 0,
       "model_id": "801065b984a540df901bfa75f5321801"
      }
     },
     "metadata": {},
     "output_type": "display_data"
    },
    {
     "data": {
      "text/plain": "Generating models for ADVÉRBIO:   0%|          | 0/11 [00:00<?, ?it/s]",
      "application/vnd.jupyter.widget-view+json": {
       "version_major": 2,
       "version_minor": 0,
       "model_id": "3d2fbc7182014d24aafca55d06436eca"
      }
     },
     "metadata": {},
     "output_type": "display_data"
    },
    {
     "data": {
      "text/plain": "Generating models for ADVÉRBIO CONECTIVO SUBORDINATIVO:   0%|          | 0/11 [00:00<?, ?it/s]",
      "application/vnd.jupyter.widget-view+json": {
       "version_major": 2,
       "version_minor": 0,
       "model_id": "cedb541b9f2547a0b1bb96e4b2df96f7"
      }
     },
     "metadata": {},
     "output_type": "display_data"
    },
    {
     "data": {
      "text/plain": "Generating models for ADVÉRBIO RELATIVO SUBORDINATIVO:   0%|          | 0/11 [00:00<?, ?it/s]",
      "application/vnd.jupyter.widget-view+json": {
       "version_major": 2,
       "version_minor": 0,
       "model_id": "2380b68dec5347c1ad76f34be42a935a"
      }
     },
     "metadata": {},
     "output_type": "display_data"
    },
    {
     "data": {
      "text/plain": "Generating models for ARTIGO:   0%|          | 0/11 [00:00<?, ?it/s]",
      "application/vnd.jupyter.widget-view+json": {
       "version_major": 2,
       "version_minor": 0,
       "model_id": "63e193f2f78b4f06a9ab6335fedbdf96"
      }
     },
     "metadata": {},
     "output_type": "display_data"
    },
    {
     "data": {
      "text/plain": "Generating models for CONJUNÇÃO COORDENATIVA:   0%|          | 0/11 [00:00<?, ?it/s]",
      "application/vnd.jupyter.widget-view+json": {
       "version_major": 2,
       "version_minor": 0,
       "model_id": "bad604b08ec44783a9ff6816d0f3aeb9"
      }
     },
     "metadata": {},
     "output_type": "display_data"
    },
    {
     "data": {
      "text/plain": "Generating models for CONJUNÇÃO SUBORDINATIVA:   0%|          | 0/11 [00:00<?, ?it/s]",
      "application/vnd.jupyter.widget-view+json": {
       "version_major": 2,
       "version_minor": 0,
       "model_id": "8d4858ad18764a7085401c0ad3b981d3"
      }
     },
     "metadata": {},
     "output_type": "display_data"
    },
    {
     "data": {
      "text/plain": "Generating models for INTERJEIÇÃO:   0%|          | 0/11 [00:00<?, ?it/s]",
      "application/vnd.jupyter.widget-view+json": {
       "version_major": 2,
       "version_minor": 0,
       "model_id": "cd30c50f91cf42f4a0ab0ce7eebf6ed3"
      }
     },
     "metadata": {},
     "output_type": "display_data"
    },
    {
     "data": {
      "text/plain": "Generating models for NOME:   0%|          | 0/11 [00:00<?, ?it/s]",
      "application/vnd.jupyter.widget-view+json": {
       "version_major": 2,
       "version_minor": 0,
       "model_id": "acdc6dc133894b44bcf957a04b81c824"
      }
     },
     "metadata": {},
     "output_type": "display_data"
    },
    {
     "data": {
      "text/plain": "Generating models for NOME PRÓPRIO:   0%|          | 0/11 [00:00<?, ?it/s]",
      "application/vnd.jupyter.widget-view+json": {
       "version_major": 2,
       "version_minor": 0,
       "model_id": "5731cc6c37f945138a0c8e96ce2c223d"
      }
     },
     "metadata": {},
     "output_type": "display_data"
    },
    {
     "data": {
      "text/plain": "Generating models for NUMERAL:   0%|          | 0/11 [00:00<?, ?it/s]",
      "application/vnd.jupyter.widget-view+json": {
       "version_major": 2,
       "version_minor": 0,
       "model_id": "fb6b4befc6b741e19290306680146d8a"
      }
     },
     "metadata": {},
     "output_type": "display_data"
    },
    {
     "data": {
      "text/plain": "Generating models for PARTICÍPIO:   0%|          | 0/11 [00:00<?, ?it/s]",
      "application/vnd.jupyter.widget-view+json": {
       "version_major": 2,
       "version_minor": 0,
       "model_id": "f70d7c45b3264f1a85dfc3a5e088a777"
      }
     },
     "metadata": {},
     "output_type": "display_data"
    },
    {
     "data": {
      "text/plain": "Generating models for PALAVRA DENOTATIVA:   0%|          | 0/11 [00:00<?, ?it/s]",
      "application/vnd.jupyter.widget-view+json": {
       "version_major": 2,
       "version_minor": 0,
       "model_id": "80b4e2798d114ed29673d1ff81a732d1"
      }
     },
     "metadata": {},
     "output_type": "display_data"
    },
    {
     "data": {
      "text/plain": "Generating models for PREPOSIÇÃO:   0%|          | 0/11 [00:00<?, ?it/s]",
      "application/vnd.jupyter.widget-view+json": {
       "version_major": 2,
       "version_minor": 0,
       "model_id": "7053930e7ae44c6a8a8244803ea527ef"
      }
     },
     "metadata": {},
     "output_type": "display_data"
    },
    {
     "data": {
      "text/plain": "Generating models for PRONOME ADJETIVO:   0%|          | 0/11 [00:00<?, ?it/s]",
      "application/vnd.jupyter.widget-view+json": {
       "version_major": 2,
       "version_minor": 0,
       "model_id": "0982e944ba2940acb6a53536384d6785"
      }
     },
     "metadata": {},
     "output_type": "display_data"
    },
    {
     "data": {
      "text/plain": "Generating models for PRONOME CONECTIVO SUBORDINATIVO:   0%|          | 0/11 [00:00<?, ?it/s]",
      "application/vnd.jupyter.widget-view+json": {
       "version_major": 2,
       "version_minor": 0,
       "model_id": "5d61ca6d5a084679b952e6de7197971d"
      }
     },
     "metadata": {},
     "output_type": "display_data"
    },
    {
     "data": {
      "text/plain": "Generating models for PRONOME PESSOAL:   0%|          | 0/11 [00:00<?, ?it/s]",
      "application/vnd.jupyter.widget-view+json": {
       "version_major": 2,
       "version_minor": 0,
       "model_id": "86bc17707af7427cad3df9a6bfffc96d"
      }
     },
     "metadata": {},
     "output_type": "display_data"
    },
    {
     "data": {
      "text/plain": "Generating models for PRONOME RELATIVO CONECTIVO SUBORDINATIVO:   0%|          | 0/11 [00:00<?, ?it/s]",
      "application/vnd.jupyter.widget-view+json": {
       "version_major": 2,
       "version_minor": 0,
       "model_id": "53a23d8f681d4e4fb3c5ddefcaacadcd"
      }
     },
     "metadata": {},
     "output_type": "display_data"
    },
    {
     "data": {
      "text/plain": "Generating models for PRONOME SUBSTANTIVO:   0%|          | 0/11 [00:00<?, ?it/s]",
      "application/vnd.jupyter.widget-view+json": {
       "version_major": 2,
       "version_minor": 0,
       "model_id": "0a2536d43917445cb0af8dfa6d948d42"
      }
     },
     "metadata": {},
     "output_type": "display_data"
    },
    {
     "data": {
      "text/plain": "Generating models for VERBO:   0%|          | 0/11 [00:00<?, ?it/s]",
      "application/vnd.jupyter.widget-view+json": {
       "version_major": 2,
       "version_minor": 0,
       "model_id": "bb79b295183b49c187e585f100073933"
      }
     },
     "metadata": {},
     "output_type": "display_data"
    },
    {
     "data": {
      "text/plain": "Generating models for VERBO AUXILIAR:   0%|          | 0/11 [00:00<?, ?it/s]",
      "application/vnd.jupyter.widget-view+json": {
       "version_major": 2,
       "version_minor": 0,
       "model_id": "781e70e98036418bbae9c6e8aea9bf30"
      }
     },
     "metadata": {},
     "output_type": "display_data"
    },
    {
     "data": {
      "text/plain": "Generating models for SÍMBOLO DE MOEDA CORRENTE:   0%|          | 0/11 [00:00<?, ?it/s]",
      "application/vnd.jupyter.widget-view+json": {
       "version_major": 2,
       "version_minor": 0,
       "model_id": "e4556c7efdaa45cab97d2f0554883429"
      }
     },
     "metadata": {},
     "output_type": "display_data"
    }
   ],
   "source": [
    "tags_dict = TagsDict(test_data=test_data, train_data=train_data)\n",
    "tags_dict.train_all_models()"
   ],
   "metadata": {
    "collapsed": false,
    "pycharm": {
     "name": "#%%\n"
    }
   }
  },
  {
   "cell_type": "markdown",
   "source": [
    "## Acuracias\n",
    "\n",
    "Aqui iremos avaliar a acurácias de todos os modelos por meio do métodos .evalute() de todos os classificadores\n",
    "do nltk. Em seguida, iremos compará-los.\n"
   ],
   "metadata": {
    "collapsed": false
   }
  },
  {
   "cell_type": "code",
   "execution_count": 29,
   "outputs": [
    {
     "data": {
      "text/plain": "Model Evaluating...:   0%|          | 0/22 [00:00<?, ?it/s]",
      "application/vnd.jupyter.widget-view+json": {
       "version_major": 2,
       "version_minor": 0,
       "model_id": "f4607ff6dd764666bb81a9eabba5303b"
      }
     },
     "metadata": {},
     "output_type": "display_data"
    },
    {
     "data": {
      "text/plain": "Evaluating models for ADJETIVO:   0%|          | 0/11 [00:00<?, ?it/s]",
      "application/vnd.jupyter.widget-view+json": {
       "version_major": 2,
       "version_minor": 0,
       "model_id": "287f4ef9ca0f406b94420614fa3df048"
      }
     },
     "metadata": {},
     "output_type": "display_data"
    },
    {
     "data": {
      "text/plain": "Evaluating models for ADVÉRBIO:   0%|          | 0/11 [00:00<?, ?it/s]",
      "application/vnd.jupyter.widget-view+json": {
       "version_major": 2,
       "version_minor": 0,
       "model_id": "8df101efec5d4b36b8e286aa64db5833"
      }
     },
     "metadata": {},
     "output_type": "display_data"
    },
    {
     "data": {
      "text/plain": "Evaluating models for ADVÉRBIO CONECTIVO SUBORDINATIVO:   0%|          | 0/11 [00:00<?, ?it/s]",
      "application/vnd.jupyter.widget-view+json": {
       "version_major": 2,
       "version_minor": 0,
       "model_id": "edcb69d705754724bed1d8ec035f19f4"
      }
     },
     "metadata": {},
     "output_type": "display_data"
    },
    {
     "data": {
      "text/plain": "Evaluating models for ADVÉRBIO RELATIVO SUBORDINATIVO:   0%|          | 0/11 [00:00<?, ?it/s]",
      "application/vnd.jupyter.widget-view+json": {
       "version_major": 2,
       "version_minor": 0,
       "model_id": "ffc073889a6341a7b3defc9d8f5b2367"
      }
     },
     "metadata": {},
     "output_type": "display_data"
    },
    {
     "data": {
      "text/plain": "Evaluating models for ARTIGO:   0%|          | 0/11 [00:00<?, ?it/s]",
      "application/vnd.jupyter.widget-view+json": {
       "version_major": 2,
       "version_minor": 0,
       "model_id": "e6971d7b9919497780f723a362569511"
      }
     },
     "metadata": {},
     "output_type": "display_data"
    },
    {
     "data": {
      "text/plain": "Evaluating models for CONJUNÇÃO COORDENATIVA:   0%|          | 0/11 [00:00<?, ?it/s]",
      "application/vnd.jupyter.widget-view+json": {
       "version_major": 2,
       "version_minor": 0,
       "model_id": "8aa835d63233458db1f30519b6173ca9"
      }
     },
     "metadata": {},
     "output_type": "display_data"
    },
    {
     "data": {
      "text/plain": "Evaluating models for CONJUNÇÃO SUBORDINATIVA:   0%|          | 0/11 [00:00<?, ?it/s]",
      "application/vnd.jupyter.widget-view+json": {
       "version_major": 2,
       "version_minor": 0,
       "model_id": "b3380228e2b743b39ac3bb09aca7da02"
      }
     },
     "metadata": {},
     "output_type": "display_data"
    },
    {
     "data": {
      "text/plain": "Evaluating models for INTERJEIÇÃO:   0%|          | 0/11 [00:00<?, ?it/s]",
      "application/vnd.jupyter.widget-view+json": {
       "version_major": 2,
       "version_minor": 0,
       "model_id": "36f9c6921ed54c49bbd3e23372bc3a3e"
      }
     },
     "metadata": {},
     "output_type": "display_data"
    },
    {
     "data": {
      "text/plain": "Evaluating models for NOME:   0%|          | 0/11 [00:00<?, ?it/s]",
      "application/vnd.jupyter.widget-view+json": {
       "version_major": 2,
       "version_minor": 0,
       "model_id": "9c650c66aff046b5806521c2954381f2"
      }
     },
     "metadata": {},
     "output_type": "display_data"
    },
    {
     "data": {
      "text/plain": "Evaluating models for NOME PRÓPRIO:   0%|          | 0/11 [00:00<?, ?it/s]",
      "application/vnd.jupyter.widget-view+json": {
       "version_major": 2,
       "version_minor": 0,
       "model_id": "f9c606ee2cfd4445bac739d1abe3b4e2"
      }
     },
     "metadata": {},
     "output_type": "display_data"
    },
    {
     "data": {
      "text/plain": "Evaluating models for NUMERAL:   0%|          | 0/11 [00:00<?, ?it/s]",
      "application/vnd.jupyter.widget-view+json": {
       "version_major": 2,
       "version_minor": 0,
       "model_id": "bc5d4316bc7245f9b0cdbace02bda73d"
      }
     },
     "metadata": {},
     "output_type": "display_data"
    },
    {
     "data": {
      "text/plain": "Evaluating models for PARTICÍPIO:   0%|          | 0/11 [00:00<?, ?it/s]",
      "application/vnd.jupyter.widget-view+json": {
       "version_major": 2,
       "version_minor": 0,
       "model_id": "2950bcca9cba47a4a71e949c497fd9e7"
      }
     },
     "metadata": {},
     "output_type": "display_data"
    },
    {
     "data": {
      "text/plain": "Evaluating models for PALAVRA DENOTATIVA:   0%|          | 0/11 [00:00<?, ?it/s]",
      "application/vnd.jupyter.widget-view+json": {
       "version_major": 2,
       "version_minor": 0,
       "model_id": "a594e636aedc4ade85c8293812373030"
      }
     },
     "metadata": {},
     "output_type": "display_data"
    },
    {
     "data": {
      "text/plain": "Evaluating models for PREPOSIÇÃO:   0%|          | 0/11 [00:00<?, ?it/s]",
      "application/vnd.jupyter.widget-view+json": {
       "version_major": 2,
       "version_minor": 0,
       "model_id": "11a2ee3a055449f481f260a9bdcbc09c"
      }
     },
     "metadata": {},
     "output_type": "display_data"
    },
    {
     "data": {
      "text/plain": "Evaluating models for PRONOME ADJETIVO:   0%|          | 0/11 [00:00<?, ?it/s]",
      "application/vnd.jupyter.widget-view+json": {
       "version_major": 2,
       "version_minor": 0,
       "model_id": "4bf83c9b9d574ee2b4ea7da47192b929"
      }
     },
     "metadata": {},
     "output_type": "display_data"
    },
    {
     "data": {
      "text/plain": "Evaluating models for PRONOME CONECTIVO SUBORDINATIVO:   0%|          | 0/11 [00:00<?, ?it/s]",
      "application/vnd.jupyter.widget-view+json": {
       "version_major": 2,
       "version_minor": 0,
       "model_id": "0f1320244410418db3b24e42e2bfb3d3"
      }
     },
     "metadata": {},
     "output_type": "display_data"
    },
    {
     "data": {
      "text/plain": "Evaluating models for PRONOME PESSOAL:   0%|          | 0/11 [00:00<?, ?it/s]",
      "application/vnd.jupyter.widget-view+json": {
       "version_major": 2,
       "version_minor": 0,
       "model_id": "ccc3bc163f3042d0942564022abb6107"
      }
     },
     "metadata": {},
     "output_type": "display_data"
    },
    {
     "data": {
      "text/plain": "Evaluating models for PRONOME RELATIVO CONECTIVO SUBORDINATIVO:   0%|          | 0/11 [00:00<?, ?it/s]",
      "application/vnd.jupyter.widget-view+json": {
       "version_major": 2,
       "version_minor": 0,
       "model_id": "eb0ecb81b8274754b29f7e12936061f3"
      }
     },
     "metadata": {},
     "output_type": "display_data"
    },
    {
     "data": {
      "text/plain": "Evaluating models for PRONOME SUBSTANTIVO:   0%|          | 0/11 [00:00<?, ?it/s]",
      "application/vnd.jupyter.widget-view+json": {
       "version_major": 2,
       "version_minor": 0,
       "model_id": "363dea7e0d024902bf60ff63528b4708"
      }
     },
     "metadata": {},
     "output_type": "display_data"
    },
    {
     "data": {
      "text/plain": "Evaluating models for VERBO:   0%|          | 0/11 [00:00<?, ?it/s]",
      "application/vnd.jupyter.widget-view+json": {
       "version_major": 2,
       "version_minor": 0,
       "model_id": "2d479572782d4cb3989beacce1b1263b"
      }
     },
     "metadata": {},
     "output_type": "display_data"
    },
    {
     "data": {
      "text/plain": "Evaluating models for VERBO AUXILIAR:   0%|          | 0/11 [00:00<?, ?it/s]",
      "application/vnd.jupyter.widget-view+json": {
       "version_major": 2,
       "version_minor": 0,
       "model_id": "fd1ee91d77224f4cabd6ac90493981be"
      }
     },
     "metadata": {},
     "output_type": "display_data"
    },
    {
     "data": {
      "text/plain": "Evaluating models for SÍMBOLO DE MOEDA CORRENTE:   0%|          | 0/11 [00:00<?, ?it/s]",
      "application/vnd.jupyter.widget-view+json": {
       "version_major": 2,
       "version_minor": 0,
       "model_id": "34d242a4a4df44f1a12f0dc051167281"
      }
     },
     "metadata": {},
     "output_type": "display_data"
    }
   ],
   "source": [
    "tags_dict.evaluate_all_models()"
   ],
   "metadata": {
    "collapsed": false,
    "pycharm": {
     "name": "#%%\n"
    }
   }
  },
  {
   "cell_type": "code",
   "execution_count": 53,
   "outputs": [
    {
     "name": "stdout",
     "output_type": "stream",
     "text": [
      "Acurácia para ADJETIVO no modelo TAGGER: 5.33%\n",
      "Acurácia para ADJETIVO no modelo AFFIX2: 26.50%\n",
      "Acurácia para ADJETIVO no modelo AFFIX3: 31.45%\n",
      "Acurácia para ADJETIVO no modelo AFFIX4: 33.88%\n",
      "Acurácia para ADJETIVO no modelo AFFIX5: 35.46%\n",
      "Acurácia para ADJETIVO no modelo AFFIX6: 35.93%\n",
      "Acurácia para ADJETIVO no modelo UNIGRAM: 83.72%\n",
      "Acurácia para ADJETIVO no modelo BIGRAM: 85.20%\n",
      "Acurácia para ADJETIVO no modelo TRIGRAM: 85.22%\n",
      "Acurácia para ADJETIVO no modelo BRILL_TAGGER: 92.23%\n",
      "Acurácia para ADJETIVO no modelo NAIVES_BAYES: 83.97%\n",
      "\n",
      "\n",
      "Acurácia para ADVÉRBIO no modelo TAGGER: 3.11%\n",
      "Acurácia para ADVÉRBIO no modelo AFFIX2: 27.64%\n",
      "Acurácia para ADVÉRBIO no modelo AFFIX3: 32.58%\n",
      "Acurácia para ADVÉRBIO no modelo AFFIX4: 35.01%\n",
      "Acurácia para ADVÉRBIO no modelo AFFIX5: 36.59%\n",
      "Acurácia para ADVÉRBIO no modelo AFFIX6: 37.06%\n",
      "Acurácia para ADVÉRBIO no modelo UNIGRAM: 83.72%\n",
      "Acurácia para ADVÉRBIO no modelo BIGRAM: 85.20%\n",
      "Acurácia para ADVÉRBIO no modelo TRIGRAM: 85.22%\n",
      "Acurácia para ADVÉRBIO no modelo BRILL_TAGGER: 92.21%\n",
      "Acurácia para ADVÉRBIO no modelo NAIVES_BAYES: 83.97%\n",
      "\n",
      "\n",
      "Acurácia para ADVÉRBIO CONECTIVO SUBORDINATIVO no modelo TAGGER: 0.07%\n",
      "Acurácia para ADVÉRBIO CONECTIVO SUBORDINATIVO no modelo AFFIX2: 26.41%\n",
      "Acurácia para ADVÉRBIO CONECTIVO SUBORDINATIVO no modelo AFFIX3: 31.36%\n",
      "Acurácia para ADVÉRBIO CONECTIVO SUBORDINATIVO no modelo AFFIX4: 33.79%\n",
      "Acurácia para ADVÉRBIO CONECTIVO SUBORDINATIVO no modelo AFFIX5: 35.37%\n",
      "Acurácia para ADVÉRBIO CONECTIVO SUBORDINATIVO no modelo AFFIX6: 35.83%\n",
      "Acurácia para ADVÉRBIO CONECTIVO SUBORDINATIVO no modelo UNIGRAM: 83.72%\n",
      "Acurácia para ADVÉRBIO CONECTIVO SUBORDINATIVO no modelo BIGRAM: 85.20%\n",
      "Acurácia para ADVÉRBIO CONECTIVO SUBORDINATIVO no modelo TRIGRAM: 85.22%\n",
      "Acurácia para ADVÉRBIO CONECTIVO SUBORDINATIVO no modelo BRILL_TAGGER: 92.21%\n",
      "Acurácia para ADVÉRBIO CONECTIVO SUBORDINATIVO no modelo NAIVES_BAYES: 83.97%\n",
      "\n",
      "\n",
      "Acurácia para ADVÉRBIO RELATIVO SUBORDINATIVO no modelo TAGGER: 0.09%\n",
      "Acurácia para ADVÉRBIO RELATIVO SUBORDINATIVO no modelo AFFIX2: 26.41%\n",
      "Acurácia para ADVÉRBIO RELATIVO SUBORDINATIVO no modelo AFFIX3: 31.36%\n",
      "Acurácia para ADVÉRBIO RELATIVO SUBORDINATIVO no modelo AFFIX4: 33.79%\n",
      "Acurácia para ADVÉRBIO RELATIVO SUBORDINATIVO no modelo AFFIX5: 35.37%\n",
      "Acurácia para ADVÉRBIO RELATIVO SUBORDINATIVO no modelo AFFIX6: 35.84%\n",
      "Acurácia para ADVÉRBIO RELATIVO SUBORDINATIVO no modelo UNIGRAM: 83.72%\n",
      "Acurácia para ADVÉRBIO RELATIVO SUBORDINATIVO no modelo BIGRAM: 85.20%\n",
      "Acurácia para ADVÉRBIO RELATIVO SUBORDINATIVO no modelo TRIGRAM: 85.22%\n",
      "Acurácia para ADVÉRBIO RELATIVO SUBORDINATIVO no modelo BRILL_TAGGER: 92.22%\n",
      "Acurácia para ADVÉRBIO RELATIVO SUBORDINATIVO no modelo NAIVES_BAYES: 83.97%\n",
      "\n",
      "\n",
      "Acurácia para ARTIGO no modelo TAGGER: 12.37%\n",
      "Acurácia para ARTIGO no modelo AFFIX2: 38.77%\n",
      "Acurácia para ARTIGO no modelo AFFIX3: 43.72%\n",
      "Acurácia para ARTIGO no modelo AFFIX4: 46.15%\n",
      "Acurácia para ARTIGO no modelo AFFIX5: 47.73%\n",
      "Acurácia para ARTIGO no modelo AFFIX6: 48.20%\n",
      "Acurácia para ARTIGO no modelo UNIGRAM: 83.72%\n",
      "Acurácia para ARTIGO no modelo BIGRAM: 85.20%\n",
      "Acurácia para ARTIGO no modelo TRIGRAM: 85.23%\n",
      "Acurácia para ARTIGO no modelo BRILL_TAGGER: 92.15%\n",
      "Acurácia para ARTIGO no modelo NAIVES_BAYES: 83.97%\n",
      "\n",
      "\n",
      "Acurácia para CONJUNÇÃO COORDENATIVA no modelo TAGGER: 2.60%\n",
      "Acurácia para CONJUNÇÃO COORDENATIVA no modelo AFFIX2: 28.87%\n",
      "Acurácia para CONJUNÇÃO COORDENATIVA no modelo AFFIX3: 33.82%\n",
      "Acurácia para CONJUNÇÃO COORDENATIVA no modelo AFFIX4: 36.25%\n",
      "Acurácia para CONJUNÇÃO COORDENATIVA no modelo AFFIX5: 37.83%\n",
      "Acurácia para CONJUNÇÃO COORDENATIVA no modelo AFFIX6: 38.29%\n",
      "Acurácia para CONJUNÇÃO COORDENATIVA no modelo UNIGRAM: 83.72%\n",
      "Acurácia para CONJUNÇÃO COORDENATIVA no modelo BIGRAM: 85.19%\n",
      "Acurácia para CONJUNÇÃO COORDENATIVA no modelo TRIGRAM: 85.21%\n",
      "Acurácia para CONJUNÇÃO COORDENATIVA no modelo BRILL_TAGGER: 92.21%\n",
      "Acurácia para CONJUNÇÃO COORDENATIVA no modelo NAIVES_BAYES: 83.97%\n",
      "\n",
      "\n",
      "Acurácia para CONJUNÇÃO SUBORDINATIVA no modelo TAGGER: 1.35%\n",
      "Acurácia para CONJUNÇÃO SUBORDINATIVA no modelo AFFIX2: 27.43%\n",
      "Acurácia para CONJUNÇÃO SUBORDINATIVA no modelo AFFIX3: 32.37%\n",
      "Acurácia para CONJUNÇÃO SUBORDINATIVA no modelo AFFIX4: 34.80%\n",
      "Acurácia para CONJUNÇÃO SUBORDINATIVA no modelo AFFIX5: 36.38%\n",
      "Acurácia para CONJUNÇÃO SUBORDINATIVA no modelo AFFIX6: 36.85%\n",
      "Acurácia para CONJUNÇÃO SUBORDINATIVA no modelo UNIGRAM: 83.72%\n",
      "Acurácia para CONJUNÇÃO SUBORDINATIVA no modelo BIGRAM: 85.19%\n",
      "Acurácia para CONJUNÇÃO SUBORDINATIVA no modelo TRIGRAM: 85.21%\n",
      "Acurácia para CONJUNÇÃO SUBORDINATIVA no modelo BRILL_TAGGER: 92.21%\n",
      "Acurácia para CONJUNÇÃO SUBORDINATIVA no modelo NAIVES_BAYES: 83.97%\n",
      "\n",
      "\n",
      "Acurácia para INTERJEIÇÃO no modelo TAGGER: 0.05%\n",
      "Acurácia para INTERJEIÇÃO no modelo AFFIX2: 26.44%\n",
      "Acurácia para INTERJEIÇÃO no modelo AFFIX3: 31.39%\n",
      "Acurácia para INTERJEIÇÃO no modelo AFFIX4: 33.82%\n",
      "Acurácia para INTERJEIÇÃO no modelo AFFIX5: 35.40%\n",
      "Acurácia para INTERJEIÇÃO no modelo AFFIX6: 35.87%\n",
      "Acurácia para INTERJEIÇÃO no modelo UNIGRAM: 83.73%\n",
      "Acurácia para INTERJEIÇÃO no modelo BIGRAM: 85.21%\n",
      "Acurácia para INTERJEIÇÃO no modelo TRIGRAM: 85.23%\n",
      "Acurácia para INTERJEIÇÃO no modelo BRILL_TAGGER: 92.23%\n",
      "Acurácia para INTERJEIÇÃO no modelo NAIVES_BAYES: 83.97%\n",
      "\n",
      "\n",
      "Acurácia para NOME no modelo TAGGER: 19.68%\n",
      "Acurácia para NOME no modelo AFFIX2: 27.29%\n",
      "Acurácia para NOME no modelo AFFIX3: 32.23%\n",
      "Acurácia para NOME no modelo AFFIX4: 34.66%\n",
      "Acurácia para NOME no modelo AFFIX5: 36.24%\n",
      "Acurácia para NOME no modelo AFFIX6: 36.71%\n",
      "Acurácia para NOME no modelo UNIGRAM: 83.75%\n",
      "Acurácia para NOME no modelo BIGRAM: 85.22%\n",
      "Acurácia para NOME no modelo TRIGRAM: 85.24%\n",
      "Acurácia para NOME no modelo BRILL_TAGGER: 92.24%\n",
      "Acurácia para NOME no modelo NAIVES_BAYES: 83.97%\n",
      "\n",
      "\n",
      "Acurácia para NOME PRÓPRIO no modelo TAGGER: 8.71%\n",
      "Acurácia para NOME PRÓPRIO no modelo AFFIX2: 28.10%\n",
      "Acurácia para NOME PRÓPRIO no modelo AFFIX3: 33.05%\n",
      "Acurácia para NOME PRÓPRIO no modelo AFFIX4: 35.48%\n",
      "Acurácia para NOME PRÓPRIO no modelo AFFIX5: 37.06%\n",
      "Acurácia para NOME PRÓPRIO no modelo AFFIX6: 37.52%\n",
      "Acurácia para NOME PRÓPRIO no modelo UNIGRAM: 83.87%\n",
      "Acurácia para NOME PRÓPRIO no modelo BIGRAM: 85.36%\n",
      "Acurácia para NOME PRÓPRIO no modelo TRIGRAM: 85.38%\n",
      "Acurácia para NOME PRÓPRIO no modelo BRILL_TAGGER: 92.38%\n",
      "Acurácia para NOME PRÓPRIO no modelo NAIVES_BAYES: 83.97%\n",
      "\n",
      "\n",
      "Acurácia para NUMERAL no modelo TAGGER: 0.98%\n",
      "Acurácia para NUMERAL no modelo AFFIX2: 27.02%\n",
      "Acurácia para NUMERAL no modelo AFFIX3: 31.96%\n",
      "Acurácia para NUMERAL no modelo AFFIX4: 34.39%\n",
      "Acurácia para NUMERAL no modelo AFFIX5: 35.97%\n",
      "Acurácia para NUMERAL no modelo AFFIX6: 36.44%\n",
      "Acurácia para NUMERAL no modelo UNIGRAM: 83.73%\n",
      "Acurácia para NUMERAL no modelo BIGRAM: 85.21%\n",
      "Acurácia para NUMERAL no modelo TRIGRAM: 85.23%\n",
      "Acurácia para NUMERAL no modelo BRILL_TAGGER: 92.20%\n",
      "Acurácia para NUMERAL no modelo NAIVES_BAYES: 83.97%\n",
      "\n",
      "\n",
      "Acurácia para PARTICÍPIO no modelo TAGGER: 1.95%\n",
      "Acurácia para PARTICÍPIO no modelo AFFIX2: 26.41%\n",
      "Acurácia para PARTICÍPIO no modelo AFFIX3: 31.35%\n",
      "Acurácia para PARTICÍPIO no modelo AFFIX4: 33.79%\n",
      "Acurácia para PARTICÍPIO no modelo AFFIX5: 35.36%\n",
      "Acurácia para PARTICÍPIO no modelo AFFIX6: 35.83%\n",
      "Acurácia para PARTICÍPIO no modelo UNIGRAM: 83.72%\n",
      "Acurácia para PARTICÍPIO no modelo BIGRAM: 85.20%\n",
      "Acurácia para PARTICÍPIO no modelo TRIGRAM: 85.21%\n",
      "Acurácia para PARTICÍPIO no modelo BRILL_TAGGER: 92.21%\n",
      "Acurácia para PARTICÍPIO no modelo NAIVES_BAYES: 83.97%\n",
      "\n",
      "\n",
      "Acurácia para PALAVRA DENOTATIVA no modelo TAGGER: 0.64%\n",
      "Acurácia para PALAVRA DENOTATIVA no modelo AFFIX2: 26.65%\n",
      "Acurácia para PALAVRA DENOTATIVA no modelo AFFIX3: 31.60%\n",
      "Acurácia para PALAVRA DENOTATIVA no modelo AFFIX4: 34.03%\n",
      "Acurácia para PALAVRA DENOTATIVA no modelo AFFIX5: 35.61%\n",
      "Acurácia para PALAVRA DENOTATIVA no modelo AFFIX6: 36.08%\n",
      "Acurácia para PALAVRA DENOTATIVA no modelo UNIGRAM: 83.72%\n",
      "Acurácia para PALAVRA DENOTATIVA no modelo BIGRAM: 85.19%\n",
      "Acurácia para PALAVRA DENOTATIVA no modelo TRIGRAM: 85.21%\n",
      "Acurácia para PALAVRA DENOTATIVA no modelo BRILL_TAGGER: 92.20%\n",
      "Acurácia para PALAVRA DENOTATIVA no modelo NAIVES_BAYES: 83.97%\n",
      "\n",
      "\n",
      "Acurácia para PREPOSIÇÃO no modelo TAGGER: 8.52%\n",
      "Acurácia para PREPOSIÇÃO no modelo AFFIX2: 32.99%\n",
      "Acurácia para PREPOSIÇÃO no modelo AFFIX3: 37.94%\n",
      "Acurácia para PREPOSIÇÃO no modelo AFFIX4: 40.37%\n",
      "Acurácia para PREPOSIÇÃO no modelo AFFIX5: 41.95%\n",
      "Acurácia para PREPOSIÇÃO no modelo AFFIX6: 42.42%\n",
      "Acurácia para PREPOSIÇÃO no modelo UNIGRAM: 83.72%\n",
      "Acurácia para PREPOSIÇÃO no modelo BIGRAM: 85.19%\n",
      "Acurácia para PREPOSIÇÃO no modelo TRIGRAM: 85.22%\n",
      "Acurácia para PREPOSIÇÃO no modelo BRILL_TAGGER: 92.21%\n",
      "Acurácia para PREPOSIÇÃO no modelo NAIVES_BAYES: 83.97%\n",
      "\n",
      "\n",
      "Acurácia para PRONOME ADJETIVO no modelo TAGGER: 2.17%\n",
      "Acurácia para PRONOME ADJETIVO no modelo AFFIX2: 26.91%\n",
      "Acurácia para PRONOME ADJETIVO no modelo AFFIX3: 31.86%\n",
      "Acurácia para PRONOME ADJETIVO no modelo AFFIX4: 34.29%\n",
      "Acurácia para PRONOME ADJETIVO no modelo AFFIX5: 35.87%\n",
      "Acurácia para PRONOME ADJETIVO no modelo AFFIX6: 36.34%\n",
      "Acurácia para PRONOME ADJETIVO no modelo UNIGRAM: 83.72%\n",
      "Acurácia para PRONOME ADJETIVO no modelo BIGRAM: 85.20%\n",
      "Acurácia para PRONOME ADJETIVO no modelo TRIGRAM: 85.22%\n",
      "Acurácia para PRONOME ADJETIVO no modelo BRILL_TAGGER: 92.22%\n",
      "Acurácia para PRONOME ADJETIVO no modelo NAIVES_BAYES: 83.97%\n",
      "\n",
      "\n",
      "Acurácia para PRONOME CONECTIVO SUBORDINATIVO no modelo TAGGER: 0.22%\n",
      "Acurácia para PRONOME CONECTIVO SUBORDINATIVO no modelo AFFIX2: 26.59%\n",
      "Acurácia para PRONOME CONECTIVO SUBORDINATIVO no modelo AFFIX3: 31.53%\n",
      "Acurácia para PRONOME CONECTIVO SUBORDINATIVO no modelo AFFIX4: 33.96%\n",
      "Acurácia para PRONOME CONECTIVO SUBORDINATIVO no modelo AFFIX5: 35.54%\n",
      "Acurácia para PRONOME CONECTIVO SUBORDINATIVO no modelo AFFIX6: 36.01%\n",
      "Acurácia para PRONOME CONECTIVO SUBORDINATIVO no modelo UNIGRAM: 83.72%\n",
      "Acurácia para PRONOME CONECTIVO SUBORDINATIVO no modelo BIGRAM: 85.20%\n",
      "Acurácia para PRONOME CONECTIVO SUBORDINATIVO no modelo TRIGRAM: 85.22%\n",
      "Acurácia para PRONOME CONECTIVO SUBORDINATIVO no modelo BRILL_TAGGER: 92.22%\n",
      "Acurácia para PRONOME CONECTIVO SUBORDINATIVO no modelo NAIVES_BAYES: 83.97%\n",
      "\n",
      "\n",
      "Acurácia para PRONOME PESSOAL no modelo TAGGER: 1.75%\n",
      "Acurácia para PRONOME PESSOAL no modelo AFFIX2: 27.94%\n",
      "Acurácia para PRONOME PESSOAL no modelo AFFIX3: 32.89%\n",
      "Acurácia para PRONOME PESSOAL no modelo AFFIX4: 35.32%\n",
      "Acurácia para PRONOME PESSOAL no modelo AFFIX5: 36.90%\n",
      "Acurácia para PRONOME PESSOAL no modelo AFFIX6: 37.36%\n",
      "Acurácia para PRONOME PESSOAL no modelo UNIGRAM: 83.72%\n",
      "Acurácia para PRONOME PESSOAL no modelo BIGRAM: 85.20%\n",
      "Acurácia para PRONOME PESSOAL no modelo TRIGRAM: 85.22%\n",
      "Acurácia para PRONOME PESSOAL no modelo BRILL_TAGGER: 92.19%\n",
      "Acurácia para PRONOME PESSOAL no modelo NAIVES_BAYES: 83.97%\n",
      "\n",
      "\n",
      "Acurácia para PRONOME RELATIVO CONECTIVO SUBORDINATIVO no modelo TAGGER: 1.18%\n",
      "Acurácia para PRONOME RELATIVO CONECTIVO SUBORDINATIVO no modelo AFFIX2: 27.50%\n",
      "Acurácia para PRONOME RELATIVO CONECTIVO SUBORDINATIVO no modelo AFFIX3: 32.44%\n",
      "Acurácia para PRONOME RELATIVO CONECTIVO SUBORDINATIVO no modelo AFFIX4: 34.87%\n",
      "Acurácia para PRONOME RELATIVO CONECTIVO SUBORDINATIVO no modelo AFFIX5: 36.45%\n",
      "Acurácia para PRONOME RELATIVO CONECTIVO SUBORDINATIVO no modelo AFFIX6: 36.92%\n",
      "Acurácia para PRONOME RELATIVO CONECTIVO SUBORDINATIVO no modelo UNIGRAM: 83.72%\n",
      "Acurácia para PRONOME RELATIVO CONECTIVO SUBORDINATIVO no modelo BIGRAM: 85.20%\n",
      "Acurácia para PRONOME RELATIVO CONECTIVO SUBORDINATIVO no modelo TRIGRAM: 85.22%\n",
      "Acurácia para PRONOME RELATIVO CONECTIVO SUBORDINATIVO no modelo BRILL_TAGGER: 92.22%\n",
      "Acurácia para PRONOME RELATIVO CONECTIVO SUBORDINATIVO no modelo NAIVES_BAYES: 83.97%\n",
      "\n",
      "\n",
      "Acurácia para PRONOME SUBSTANTIVO no modelo TAGGER: 0.97%\n",
      "Acurácia para PRONOME SUBSTANTIVO no modelo AFFIX2: 26.76%\n",
      "Acurácia para PRONOME SUBSTANTIVO no modelo AFFIX3: 31.70%\n",
      "Acurácia para PRONOME SUBSTANTIVO no modelo AFFIX4: 34.14%\n",
      "Acurácia para PRONOME SUBSTANTIVO no modelo AFFIX5: 35.71%\n",
      "Acurácia para PRONOME SUBSTANTIVO no modelo AFFIX6: 36.18%\n",
      "Acurácia para PRONOME SUBSTANTIVO no modelo UNIGRAM: 83.72%\n",
      "Acurácia para PRONOME SUBSTANTIVO no modelo BIGRAM: 85.20%\n",
      "Acurácia para PRONOME SUBSTANTIVO no modelo TRIGRAM: 85.22%\n",
      "Acurácia para PRONOME SUBSTANTIVO no modelo BRILL_TAGGER: 92.22%\n",
      "Acurácia para PRONOME SUBSTANTIVO no modelo NAIVES_BAYES: 83.97%\n",
      "\n",
      "\n",
      "Acurácia para VERBO no modelo TAGGER: 8.68%\n",
      "Acurácia para VERBO no modelo AFFIX2: 28.28%\n",
      "Acurácia para VERBO no modelo AFFIX3: 33.23%\n",
      "Acurácia para VERBO no modelo AFFIX4: 35.66%\n",
      "Acurácia para VERBO no modelo AFFIX5: 37.23%\n",
      "Acurácia para VERBO no modelo AFFIX6: 37.70%\n",
      "Acurácia para VERBO no modelo UNIGRAM: 83.72%\n",
      "Acurácia para VERBO no modelo BIGRAM: 85.20%\n",
      "Acurácia para VERBO no modelo TRIGRAM: 85.22%\n",
      "Acurácia para VERBO no modelo BRILL_TAGGER: 92.18%\n",
      "Acurácia para VERBO no modelo NAIVES_BAYES: 83.97%\n",
      "\n",
      "\n",
      "Acurácia para VERBO AUXILIAR no modelo TAGGER: 1.39%\n",
      "Acurácia para VERBO AUXILIAR no modelo AFFIX2: 26.92%\n",
      "Acurácia para VERBO AUXILIAR no modelo AFFIX3: 31.87%\n",
      "Acurácia para VERBO AUXILIAR no modelo AFFIX4: 34.30%\n",
      "Acurácia para VERBO AUXILIAR no modelo AFFIX5: 35.88%\n",
      "Acurácia para VERBO AUXILIAR no modelo AFFIX6: 36.35%\n",
      "Acurácia para VERBO AUXILIAR no modelo UNIGRAM: 83.72%\n",
      "Acurácia para VERBO AUXILIAR no modelo BIGRAM: 85.20%\n",
      "Acurácia para VERBO AUXILIAR no modelo TRIGRAM: 85.22%\n",
      "Acurácia para VERBO AUXILIAR no modelo BRILL_TAGGER: 92.22%\n",
      "Acurácia para VERBO AUXILIAR no modelo NAIVES_BAYES: 83.97%\n",
      "\n",
      "\n",
      "Acurácia para SÍMBOLO DE MOEDA CORRENTE no modelo TAGGER: 0.07%\n",
      "Acurácia para SÍMBOLO DE MOEDA CORRENTE no modelo AFFIX2: 26.48%\n",
      "Acurácia para SÍMBOLO DE MOEDA CORRENTE no modelo AFFIX3: 31.42%\n",
      "Acurácia para SÍMBOLO DE MOEDA CORRENTE no modelo AFFIX4: 33.86%\n",
      "Acurácia para SÍMBOLO DE MOEDA CORRENTE no modelo AFFIX5: 35.43%\n",
      "Acurácia para SÍMBOLO DE MOEDA CORRENTE no modelo AFFIX6: 35.90%\n",
      "Acurácia para SÍMBOLO DE MOEDA CORRENTE no modelo UNIGRAM: 83.72%\n",
      "Acurácia para SÍMBOLO DE MOEDA CORRENTE no modelo BIGRAM: 85.20%\n",
      "Acurácia para SÍMBOLO DE MOEDA CORRENTE no modelo TRIGRAM: 85.22%\n",
      "Acurácia para SÍMBOLO DE MOEDA CORRENTE no modelo BRILL_TAGGER: 92.19%\n",
      "Acurácia para SÍMBOLO DE MOEDA CORRENTE no modelo NAIVES_BAYES: 83.97%\n",
      "\n",
      "\n"
     ]
    }
   ],
   "source": [
    "tags_dict.print_accuracies()"
   ],
   "metadata": {
    "collapsed": false,
    "pycharm": {
     "name": "#%%\n"
    }
   }
  }
 ],
 "metadata": {
  "kernelspec": {
   "display_name": "Python 3",
   "language": "python",
   "name": "python3"
  },
  "language_info": {
   "codemirror_mode": {
    "name": "ipython",
    "version": 2
   },
   "file_extension": ".py",
   "mimetype": "text/x-python",
   "name": "python",
   "nbconvert_exporter": "python",
   "pygments_lexer": "ipython2",
   "version": "2.7.6"
  }
 },
 "nbformat": 4,
 "nbformat_minor": 0
}